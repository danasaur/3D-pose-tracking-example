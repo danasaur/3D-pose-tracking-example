{
 "cells": [
  {
   "cell_type": "code",
   "execution_count": 12,
   "metadata": {},
   "outputs": [],
   "source": [
    "%config IPCompleter.greedy=True"
   ]
  },
  {
   "cell_type": "code",
   "execution_count": 1,
   "metadata": {},
   "outputs": [],
   "source": [
    "import cvutilities.openpose_utilities\n",
    "import cvutilities.camera_utilities\n",
    "import numpy as np\n",
    "import pickle\n",
    "import pandas as pd\n",
    "import time\n",
    "import os"
   ]
  },
  {
   "cell_type": "code",
   "execution_count": 2,
   "metadata": {},
   "outputs": [],
   "source": [
    "# Define input and output files\n",
    "data_directory = './data'\n",
    "input_dataframe_filename = 'example_2d_poses_dataframe.pickle.xz'\n",
    "output_dataframe_filename = 'example_3d_pose_tracks_dataframe.pickle.xz'\n",
    "\n",
    "input_dataframe_path = os.path.join(\n",
    "    data_directory,\n",
    "    input_dataframe_filename)\n",
    "\n",
    "output_dataframe_path = os.path.join(\n",
    "    data_directory,\n",
    "    output_dataframe_filename)"
   ]
  },
  {
   "cell_type": "code",
   "execution_count": 3,
   "metadata": {},
   "outputs": [],
   "source": [
    "# Define model parameters\n",
    "\n",
    "room_size = np.array([7.0, 8.0, 3.0])\n",
    "\n",
    "pose_initialization_model = cvutilities.openpose_utilities.PoseInitializationModel(\n",
    "    initial_keypoint_position_means = np.tile(room_size/2, (18, 1)),\n",
    "    initial_keypoint_velocity_means = np.zeros((18,3)),\n",
    "    initial_keypoint_position_error = np.amax(room_size)/2.0,\n",
    "    initial_keypoint_velocity_error = 2.0)\n",
    "\n",
    "keypoint_model = cvutilities.openpose_utilities.KeypointModel(\n",
    "    position_observation_error = 1.0,\n",
    "    reference_delta_t = 0.1,\n",
    "    reference_position_transition_error = 0.1,\n",
    "    reference_velocity_transition_error = 0.1)\n",
    "\n",
    "pose_tracking_model = cvutilities.openpose_utilities.PoseTrackingModel(\n",
    "    cost_threshold = 1.0,\n",
    "    num_missed_observations_threshold = 10)"
   ]
  },
  {
   "cell_type": "code",
   "execution_count": 4,
   "metadata": {},
   "outputs": [
    {
     "name": "stdout",
     "output_type": "stream",
     "text": [
      "57 tracks produced from 600 frames in 17.9 seconds: 29.9 milliseconds per frame\n",
      "Output saved in example_3d_pose_tracks_dataframe.pickle.xz\n"
     ]
    }
   ],
   "source": [
    "# Ingest and process the data\n",
    "\n",
    "input_dataframe = pd.read_pickle(input_dataframe_path)\n",
    "\n",
    "num_rows = input_dataframe.shape[0]\n",
    "\n",
    "camera_names = input_dataframe.columns.levels[0].tolist()\n",
    "\n",
    "camera_calibration_parameters = cvutilities.camera_utilities.fetch_camera_calibration_data_from_local_drive_multiple_cameras(\n",
    "    camera_names = camera_names,\n",
    "    camera_calibration_data_directory = './data')\n",
    "\n",
    "initial_dataframe_row = input_dataframe.iloc[0]\n",
    "\n",
    "initial_poses_2d = cvutilities.openpose_utilities.Poses2D.from_dataframe_row(\n",
    "    dataframe_row = initial_dataframe_row,\n",
    "    camera_names = camera_names)\n",
    "\n",
    "initial_poses_3d = cvutilities.openpose_utilities.Poses3D.from_poses_2d(\n",
    "    poses_2d = initial_poses_2d,\n",
    "    cameras = camera_calibration_parameters)\n",
    "\n",
    "pose_tracks = cvutilities.openpose_utilities.Pose3DTracks.initialize(\n",
    "    pose_initialization_model = pose_initialization_model,\n",
    "    keypoint_model = keypoint_model,\n",
    "    pose_tracking_model = pose_tracking_model,\n",
    "    pose_3d_observations = initial_poses_3d)\n",
    "\n",
    "start_time = time.time()\n",
    "for row_index in range(1, num_rows):\n",
    "    dataframe_row = input_dataframe.iloc[row_index]\n",
    "    poses_2d = cvutilities.openpose_utilities.Poses2D.from_dataframe_row(\n",
    "        dataframe_row,\n",
    "        camera_names)\n",
    "    poses_3d = cvutilities.openpose_utilities.Poses3D.from_poses_2d(\n",
    "        poses_2d,\n",
    "        camera_calibration_parameters)\n",
    "    pose_tracks.update(poses_3d)\n",
    "end_time = time.time()\n",
    "elapsed_time = end_time - start_time\n",
    "\n",
    "print('{} tracks produced from {} frames in {:.1f} seconds: {:.1f} milliseconds per frame'.format(\n",
    "    pose_tracks.num_inactive_tracks() + pose_tracks.num_active_tracks(),\n",
    "    num_rows,\n",
    "    elapsed_time,\n",
    "    1000*elapsed_time/num_rows))\n",
    "\n",
    "output_dataframe = pose_tracks.dataframe()\n",
    "\n",
    "output_dataframe.to_pickle(output_dataframe_path)\n",
    "\n",
    "print('Output saved in {}'.format(output_dataframe_filename))"
   ]
  },
  {
   "cell_type": "code",
   "execution_count": 9,
   "metadata": {},
   "outputs": [
    {
     "data": {
      "text/plain": [
       "MultiIndex([('camera01', 'poses'),\n",
       "            ('camera01',  'file'),\n",
       "            ('camera01', 'model'),\n",
       "            ('camera01', 'frame'),\n",
       "            ('camera02', 'poses'),\n",
       "            ('camera02',  'file'),\n",
       "            ('camera02', 'model'),\n",
       "            ('camera02', 'frame'),\n",
       "            ('camera03', 'poses'),\n",
       "            ('camera03',  'file'),\n",
       "            ('camera03', 'model'),\n",
       "            ('camera03', 'frame'),\n",
       "            ('camera04', 'poses'),\n",
       "            ('camera04',  'file'),\n",
       "            ('camera04', 'model'),\n",
       "            ('camera04', 'frame')],\n",
       "           )"
      ]
     },
     "execution_count": 9,
     "metadata": {},
     "output_type": "execute_result"
    }
   ],
   "source": [
    "input_dataframe.columns"
   ]
  },
  {
   "cell_type": "code",
   "execution_count": 15,
   "metadata": {},
   "outputs": [
    {
     "data": {
      "text/plain": [
       "camera01  poses      object\n",
       "          file     category\n",
       "          model    category\n",
       "          frame       int64\n",
       "camera02  poses      object\n",
       "          file     category\n",
       "          model    category\n",
       "          frame       int64\n",
       "camera03  poses      object\n",
       "          file     category\n",
       "          model    category\n",
       "          frame       int64\n",
       "camera04  poses      object\n",
       "          file     category\n",
       "          model    category\n",
       "          frame       int64\n",
       "dtype: object"
      ]
     },
     "execution_count": 15,
     "metadata": {},
     "output_type": "execute_result"
    }
   ],
   "source": [
    "input_dataframe.dtypes"
   ]
  },
  {
   "cell_type": "code",
   "execution_count": 17,
   "metadata": {},
   "outputs": [],
   "source": [
    "cam1 = input_dataframe['camera01']"
   ]
  },
  {
   "cell_type": "code",
   "execution_count": 27,
   "metadata": {},
   "outputs": [
    {
     "data": {
      "text/plain": [
       "600"
      ]
     },
     "execution_count": 27,
     "metadata": {},
     "output_type": "execute_result"
    }
   ],
   "source": [
    "len(cam1['file'])"
   ]
  },
  {
   "cell_type": "code",
   "execution_count": 39,
   "metadata": {},
   "outputs": [
    {
     "data": {
      "text/plain": [
       "6"
      ]
     },
     "execution_count": 39,
     "metadata": {},
     "output_type": "execute_result"
    }
   ],
   "source": [
    "len(cam1['file'].values.unique())"
   ]
  },
  {
   "cell_type": "code",
   "execution_count": 44,
   "metadata": {},
   "outputs": [
    {
     "data": {
      "text/html": [
       "<div>\n",
       "<style scoped>\n",
       "    .dataframe tbody tr th:only-of-type {\n",
       "        vertical-align: middle;\n",
       "    }\n",
       "\n",
       "    .dataframe tbody tr th {\n",
       "        vertical-align: top;\n",
       "    }\n",
       "\n",
       "    .dataframe thead th {\n",
       "        text-align: right;\n",
       "    }\n",
       "</style>\n",
       "<table border=\"1\" class=\"dataframe\">\n",
       "  <thead>\n",
       "    <tr style=\"text-align: right;\">\n",
       "      <th></th>\n",
       "      <th>poses</th>\n",
       "      <th>file</th>\n",
       "      <th>model</th>\n",
       "      <th>frame</th>\n",
       "    </tr>\n",
       "  </thead>\n",
       "  <tbody>\n",
       "    <tr>\n",
       "      <th>2018-07-04 18:20:00.000</th>\n",
       "      <td>[[[1098.0, 216.58696, 0.81464326], [1164.0, 24...</td>\n",
       "      <td>video_2018-07-04-18-20-00.mp4</td>\n",
       "      <td>cmu</td>\n",
       "      <td>0</td>\n",
       "    </tr>\n",
       "    <tr>\n",
       "      <th>2018-07-04 18:20:00.100</th>\n",
       "      <td>[[[1092.0, 221.86957, 0.92140007], [1158.0, 25...</td>\n",
       "      <td>video_2018-07-04-18-20-00.mp4</td>\n",
       "      <td>cmu</td>\n",
       "      <td>1</td>\n",
       "    </tr>\n",
       "    <tr>\n",
       "      <th>2018-07-04 18:20:00.200</th>\n",
       "      <td>[[[1086.0, 227.15218, 0.8493447], [1152.0, 253...</td>\n",
       "      <td>video_2018-07-04-18-20-00.mp4</td>\n",
       "      <td>cmu</td>\n",
       "      <td>2</td>\n",
       "    </tr>\n",
       "    <tr>\n",
       "      <th>2018-07-04 18:20:00.300</th>\n",
       "      <td>[[[1074.0, 227.15218, 0.74878925], [1140.0, 25...</td>\n",
       "      <td>video_2018-07-04-18-20-00.mp4</td>\n",
       "      <td>cmu</td>\n",
       "      <td>3</td>\n",
       "    </tr>\n",
       "    <tr>\n",
       "      <th>2018-07-04 18:20:00.400</th>\n",
       "      <td>[[[924.0, 47.54348, 0.9911146], [954.0, 100.36...</td>\n",
       "      <td>video_2018-07-04-18-20-00.mp4</td>\n",
       "      <td>cmu</td>\n",
       "      <td>4</td>\n",
       "    </tr>\n",
       "    <tr>\n",
       "      <th>...</th>\n",
       "      <td>...</td>\n",
       "      <td>...</td>\n",
       "      <td>...</td>\n",
       "      <td>...</td>\n",
       "    </tr>\n",
       "    <tr>\n",
       "      <th>2018-07-04 18:20:59.500</th>\n",
       "      <td>[[[774.0, 31.695652, 0.93963164], [768.0, 68.6...</td>\n",
       "      <td>video_2018-07-04-18-20-50.mp4</td>\n",
       "      <td>cmu</td>\n",
       "      <td>95</td>\n",
       "    </tr>\n",
       "    <tr>\n",
       "      <th>2018-07-04 18:20:59.600</th>\n",
       "      <td>[[[774.0, 31.695652, 0.9273625], [762.0, 68.67...</td>\n",
       "      <td>video_2018-07-04-18-20-50.mp4</td>\n",
       "      <td>cmu</td>\n",
       "      <td>96</td>\n",
       "    </tr>\n",
       "    <tr>\n",
       "      <th>2018-07-04 18:20:59.700</th>\n",
       "      <td>[[[774.0, 36.97826, 0.8920598], [762.0, 73.956...</td>\n",
       "      <td>video_2018-07-04-18-20-50.mp4</td>\n",
       "      <td>cmu</td>\n",
       "      <td>97</td>\n",
       "    </tr>\n",
       "    <tr>\n",
       "      <th>2018-07-04 18:20:59.800</th>\n",
       "      <td>[[[0.0, 0.0, 0.0], [1200.0, 369.78262, 0.82549...</td>\n",
       "      <td>video_2018-07-04-18-20-50.mp4</td>\n",
       "      <td>cmu</td>\n",
       "      <td>98</td>\n",
       "    </tr>\n",
       "    <tr>\n",
       "      <th>2018-07-04 18:20:59.900</th>\n",
       "      <td>[[[0.0, 0.0, 0.0], [1200.0, 369.78262, 0.84796...</td>\n",
       "      <td>video_2018-07-04-18-20-50.mp4</td>\n",
       "      <td>cmu</td>\n",
       "      <td>99</td>\n",
       "    </tr>\n",
       "  </tbody>\n",
       "</table>\n",
       "<p>600 rows × 4 columns</p>\n",
       "</div>"
      ],
      "text/plain": [
       "                                                                     poses  \\\n",
       "2018-07-04 18:20:00.000  [[[1098.0, 216.58696, 0.81464326], [1164.0, 24...   \n",
       "2018-07-04 18:20:00.100  [[[1092.0, 221.86957, 0.92140007], [1158.0, 25...   \n",
       "2018-07-04 18:20:00.200  [[[1086.0, 227.15218, 0.8493447], [1152.0, 253...   \n",
       "2018-07-04 18:20:00.300  [[[1074.0, 227.15218, 0.74878925], [1140.0, 25...   \n",
       "2018-07-04 18:20:00.400  [[[924.0, 47.54348, 0.9911146], [954.0, 100.36...   \n",
       "...                                                                    ...   \n",
       "2018-07-04 18:20:59.500  [[[774.0, 31.695652, 0.93963164], [768.0, 68.6...   \n",
       "2018-07-04 18:20:59.600  [[[774.0, 31.695652, 0.9273625], [762.0, 68.67...   \n",
       "2018-07-04 18:20:59.700  [[[774.0, 36.97826, 0.8920598], [762.0, 73.956...   \n",
       "2018-07-04 18:20:59.800  [[[0.0, 0.0, 0.0], [1200.0, 369.78262, 0.82549...   \n",
       "2018-07-04 18:20:59.900  [[[0.0, 0.0, 0.0], [1200.0, 369.78262, 0.84796...   \n",
       "\n",
       "                                                  file model  frame  \n",
       "2018-07-04 18:20:00.000  video_2018-07-04-18-20-00.mp4   cmu      0  \n",
       "2018-07-04 18:20:00.100  video_2018-07-04-18-20-00.mp4   cmu      1  \n",
       "2018-07-04 18:20:00.200  video_2018-07-04-18-20-00.mp4   cmu      2  \n",
       "2018-07-04 18:20:00.300  video_2018-07-04-18-20-00.mp4   cmu      3  \n",
       "2018-07-04 18:20:00.400  video_2018-07-04-18-20-00.mp4   cmu      4  \n",
       "...                                                ...   ...    ...  \n",
       "2018-07-04 18:20:59.500  video_2018-07-04-18-20-50.mp4   cmu     95  \n",
       "2018-07-04 18:20:59.600  video_2018-07-04-18-20-50.mp4   cmu     96  \n",
       "2018-07-04 18:20:59.700  video_2018-07-04-18-20-50.mp4   cmu     97  \n",
       "2018-07-04 18:20:59.800  video_2018-07-04-18-20-50.mp4   cmu     98  \n",
       "2018-07-04 18:20:59.900  video_2018-07-04-18-20-50.mp4   cmu     99  \n",
       "\n",
       "[600 rows x 4 columns]"
      ]
     },
     "execution_count": 44,
     "metadata": {},
     "output_type": "execute_result"
    }
   ],
   "source": [
    "cam1"
   ]
  },
  {
   "cell_type": "markdown",
   "metadata": {},
   "source": [
    "# Video input:\n",
    "- 4 cameras\n",
    "- 1 minute of video is recorded for each camera\n",
    "- 1 minute of video footage is broken into 6 videos\n",
    "- Each video records 10 seconds\n",
    "- 10 seconds of video has 100 frames\n",
    "- 10 frames per second"
   ]
  },
  {
   "cell_type": "code",
   "execution_count": 42,
   "metadata": {},
   "outputs": [
    {
     "data": {
      "text/plain": [
       "Index(['track_id', 'track_status', 'timestamp', 'keypoints', 'valid_keypoints',\n",
       "       'keypoint_std_devs', 'tag'],\n",
       "      dtype='object')"
      ]
     },
     "execution_count": 42,
     "metadata": {},
     "output_type": "execute_result"
    }
   ],
   "source": [
    "output_dataframe.columns"
   ]
  },
  {
   "cell_type": "code",
   "execution_count": 43,
   "metadata": {},
   "outputs": [
    {
     "data": {
      "text/html": [
       "<div>\n",
       "<style scoped>\n",
       "    .dataframe tbody tr th:only-of-type {\n",
       "        vertical-align: middle;\n",
       "    }\n",
       "\n",
       "    .dataframe tbody tr th {\n",
       "        vertical-align: top;\n",
       "    }\n",
       "\n",
       "    .dataframe thead th {\n",
       "        text-align: right;\n",
       "    }\n",
       "</style>\n",
       "<table border=\"1\" class=\"dataframe\">\n",
       "  <thead>\n",
       "    <tr style=\"text-align: right;\">\n",
       "      <th></th>\n",
       "      <th>track_id</th>\n",
       "      <th>track_status</th>\n",
       "      <th>timestamp</th>\n",
       "      <th>keypoints</th>\n",
       "      <th>valid_keypoints</th>\n",
       "      <th>keypoint_std_devs</th>\n",
       "      <th>tag</th>\n",
       "    </tr>\n",
       "  </thead>\n",
       "  <tbody>\n",
       "    <tr>\n",
       "      <th>0</th>\n",
       "      <td>4</td>\n",
       "      <td>inactive</td>\n",
       "      <td>2018-07-04T18:20:00.600000</td>\n",
       "      <td>[[3.200903724221622, 4.03407871021944, 1.68237...</td>\n",
       "      <td>[True, True, True, True, True, True, True, Tru...</td>\n",
       "      <td>[[0.970142500145332, 0.970142500145332, 0.9701...</td>\n",
       "      <td>None</td>\n",
       "    </tr>\n",
       "    <tr>\n",
       "      <th>1</th>\n",
       "      <td>4</td>\n",
       "      <td>inactive</td>\n",
       "      <td>2018-07-04T18:20:00.700000</td>\n",
       "      <td>[[3.200903724221622, 4.03407871021944, 1.68237...</td>\n",
       "      <td>[True, True, True, True, True, True, True, Tru...</td>\n",
       "      <td>[[0.9955784602874027, 0.9955784602874027, 0.99...</td>\n",
       "      <td>None</td>\n",
       "    </tr>\n",
       "    <tr>\n",
       "      <th>2</th>\n",
       "      <td>4</td>\n",
       "      <td>inactive</td>\n",
       "      <td>2018-07-04T18:20:00.800000</td>\n",
       "      <td>[[3.200903724221622, 4.03407871021944, 1.68237...</td>\n",
       "      <td>[True, True, True, True, True, True, True, Tru...</td>\n",
       "      <td>[[1.0589034283579573, 1.0589034283579573, 1.05...</td>\n",
       "      <td>None</td>\n",
       "    </tr>\n",
       "    <tr>\n",
       "      <th>3</th>\n",
       "      <td>4</td>\n",
       "      <td>inactive</td>\n",
       "      <td>2018-07-04T18:20:00.900000</td>\n",
       "      <td>[[3.200903724221622, 4.03407871021944, 1.68237...</td>\n",
       "      <td>[True, True, True, True, True, True, True, Tru...</td>\n",
       "      <td>[[1.1539828727447543, 1.1539828727447543, 1.15...</td>\n",
       "      <td>None</td>\n",
       "    </tr>\n",
       "    <tr>\n",
       "      <th>4</th>\n",
       "      <td>4</td>\n",
       "      <td>inactive</td>\n",
       "      <td>2018-07-04T18:20:01.000000</td>\n",
       "      <td>[[3.200903724221622, 4.03407871021944, 1.68237...</td>\n",
       "      <td>[True, True, True, True, True, True, True, Tru...</td>\n",
       "      <td>[[1.2738039372635948, 1.2738039372635948, 1.27...</td>\n",
       "      <td>None</td>\n",
       "    </tr>\n",
       "    <tr>\n",
       "      <th>...</th>\n",
       "      <td>...</td>\n",
       "      <td>...</td>\n",
       "      <td>...</td>\n",
       "      <td>...</td>\n",
       "      <td>...</td>\n",
       "      <td>...</td>\n",
       "      <td>...</td>\n",
       "    </tr>\n",
       "    <tr>\n",
       "      <th>2159</th>\n",
       "      <td>56</td>\n",
       "      <td>active</td>\n",
       "      <td>2018-07-04T18:20:59.500000</td>\n",
       "      <td>[[3.5, 4.0, 1.5], [3.5, 4.0, 1.5], [3.5, 4.0, ...</td>\n",
       "      <td>[True, True, True, True, True, True, True, Tru...</td>\n",
       "      <td>[[4.0, 4.0, 4.0], [4.0, 4.0, 4.0], [4.0, 4.0, ...</td>\n",
       "      <td>None</td>\n",
       "    </tr>\n",
       "    <tr>\n",
       "      <th>2160</th>\n",
       "      <td>56</td>\n",
       "      <td>active</td>\n",
       "      <td>2018-07-04T18:20:59.600000</td>\n",
       "      <td>[[5.013853698182316, 6.1111414425533885, 1.468...</td>\n",
       "      <td>[True, True, True, True, True, True, True, Tru...</td>\n",
       "      <td>[[0.9702314020928409, 0.9702314020928409, 0.97...</td>\n",
       "      <td>None</td>\n",
       "    </tr>\n",
       "    <tr>\n",
       "      <th>2161</th>\n",
       "      <td>56</td>\n",
       "      <td>active</td>\n",
       "      <td>2018-07-04T18:20:59.700000</td>\n",
       "      <td>[[5.062811014914076, 6.179414764072325, 1.4672...</td>\n",
       "      <td>[True, True, True, True, True, True, True, Tru...</td>\n",
       "      <td>[[0.706406290024958, 0.706406290024958, 0.7064...</td>\n",
       "      <td>None</td>\n",
       "    </tr>\n",
       "    <tr>\n",
       "      <th>2162</th>\n",
       "      <td>56</td>\n",
       "      <td>active</td>\n",
       "      <td>2018-07-04T18:20:59.800000</td>\n",
       "      <td>[[5.083235562294404, 6.2078977730128715, 1.466...</td>\n",
       "      <td>[True, True, True, True, True, True, True, Tru...</td>\n",
       "      <td>[[0.609366514245326, 0.609366514245326, 0.6093...</td>\n",
       "      <td>None</td>\n",
       "    </tr>\n",
       "    <tr>\n",
       "      <th>2163</th>\n",
       "      <td>56</td>\n",
       "      <td>active</td>\n",
       "      <td>2018-07-04T18:20:59.900000</td>\n",
       "      <td>[[5.090436630037873, 6.217940006659442, 1.4666...</td>\n",
       "      <td>[True, True, True, True, True, True, True, Tru...</td>\n",
       "      <td>[[0.7030756790939029, 0.7030756790939029, 0.70...</td>\n",
       "      <td>None</td>\n",
       "    </tr>\n",
       "  </tbody>\n",
       "</table>\n",
       "<p>2164 rows × 7 columns</p>\n",
       "</div>"
      ],
      "text/plain": [
       "      track_id track_status                   timestamp  \\\n",
       "0            4     inactive  2018-07-04T18:20:00.600000   \n",
       "1            4     inactive  2018-07-04T18:20:00.700000   \n",
       "2            4     inactive  2018-07-04T18:20:00.800000   \n",
       "3            4     inactive  2018-07-04T18:20:00.900000   \n",
       "4            4     inactive  2018-07-04T18:20:01.000000   \n",
       "...        ...          ...                         ...   \n",
       "2159        56       active  2018-07-04T18:20:59.500000   \n",
       "2160        56       active  2018-07-04T18:20:59.600000   \n",
       "2161        56       active  2018-07-04T18:20:59.700000   \n",
       "2162        56       active  2018-07-04T18:20:59.800000   \n",
       "2163        56       active  2018-07-04T18:20:59.900000   \n",
       "\n",
       "                                              keypoints  \\\n",
       "0     [[3.200903724221622, 4.03407871021944, 1.68237...   \n",
       "1     [[3.200903724221622, 4.03407871021944, 1.68237...   \n",
       "2     [[3.200903724221622, 4.03407871021944, 1.68237...   \n",
       "3     [[3.200903724221622, 4.03407871021944, 1.68237...   \n",
       "4     [[3.200903724221622, 4.03407871021944, 1.68237...   \n",
       "...                                                 ...   \n",
       "2159  [[3.5, 4.0, 1.5], [3.5, 4.0, 1.5], [3.5, 4.0, ...   \n",
       "2160  [[5.013853698182316, 6.1111414425533885, 1.468...   \n",
       "2161  [[5.062811014914076, 6.179414764072325, 1.4672...   \n",
       "2162  [[5.083235562294404, 6.2078977730128715, 1.466...   \n",
       "2163  [[5.090436630037873, 6.217940006659442, 1.4666...   \n",
       "\n",
       "                                        valid_keypoints  \\\n",
       "0     [True, True, True, True, True, True, True, Tru...   \n",
       "1     [True, True, True, True, True, True, True, Tru...   \n",
       "2     [True, True, True, True, True, True, True, Tru...   \n",
       "3     [True, True, True, True, True, True, True, Tru...   \n",
       "4     [True, True, True, True, True, True, True, Tru...   \n",
       "...                                                 ...   \n",
       "2159  [True, True, True, True, True, True, True, Tru...   \n",
       "2160  [True, True, True, True, True, True, True, Tru...   \n",
       "2161  [True, True, True, True, True, True, True, Tru...   \n",
       "2162  [True, True, True, True, True, True, True, Tru...   \n",
       "2163  [True, True, True, True, True, True, True, Tru...   \n",
       "\n",
       "                                      keypoint_std_devs   tag  \n",
       "0     [[0.970142500145332, 0.970142500145332, 0.9701...  None  \n",
       "1     [[0.9955784602874027, 0.9955784602874027, 0.99...  None  \n",
       "2     [[1.0589034283579573, 1.0589034283579573, 1.05...  None  \n",
       "3     [[1.1539828727447543, 1.1539828727447543, 1.15...  None  \n",
       "4     [[1.2738039372635948, 1.2738039372635948, 1.27...  None  \n",
       "...                                                 ...   ...  \n",
       "2159  [[4.0, 4.0, 4.0], [4.0, 4.0, 4.0], [4.0, 4.0, ...  None  \n",
       "2160  [[0.9702314020928409, 0.9702314020928409, 0.97...  None  \n",
       "2161  [[0.706406290024958, 0.706406290024958, 0.7064...  None  \n",
       "2162  [[0.609366514245326, 0.609366514245326, 0.6093...  None  \n",
       "2163  [[0.7030756790939029, 0.7030756790939029, 0.70...  None  \n",
       "\n",
       "[2164 rows x 7 columns]"
      ]
     },
     "execution_count": 43,
     "metadata": {},
     "output_type": "execute_result"
    }
   ],
   "source": [
    "output_dataframe"
   ]
  },
  {
   "cell_type": "code",
   "execution_count": 47,
   "metadata": {},
   "outputs": [
    {
     "data": {
      "text/plain": [
       "57"
      ]
     },
     "execution_count": 47,
     "metadata": {},
     "output_type": "execute_result"
    }
   ],
   "source": [
    "len(output_dataframe['track_id'].unique())"
   ]
  },
  {
   "cell_type": "code",
   "execution_count": 48,
   "metadata": {},
   "outputs": [
    {
     "data": {
      "text/plain": [
       "array([None], dtype=object)"
      ]
     },
     "execution_count": 48,
     "metadata": {},
     "output_type": "execute_result"
    }
   ],
   "source": [
    "output_dataframe['tag'].unique()"
   ]
  },
  {
   "cell_type": "code",
   "execution_count": 49,
   "metadata": {},
   "outputs": [
    {
     "data": {
      "text/plain": [
       "array(['inactive', 'active'], dtype=object)"
      ]
     },
     "execution_count": 49,
     "metadata": {},
     "output_type": "execute_result"
    }
   ],
   "source": [
    "output_dataframe['track_status'].unique()"
   ]
  },
  {
   "cell_type": "code",
   "execution_count": 51,
   "metadata": {},
   "outputs": [
    {
     "data": {
      "text/plain": [
       "0       2018-07-04T18:20:00.600000\n",
       "1       2018-07-04T18:20:00.700000\n",
       "2       2018-07-04T18:20:00.800000\n",
       "3       2018-07-04T18:20:00.900000\n",
       "4       2018-07-04T18:20:01.000000\n",
       "                   ...            \n",
       "2159    2018-07-04T18:20:59.500000\n",
       "2160    2018-07-04T18:20:59.600000\n",
       "2161    2018-07-04T18:20:59.700000\n",
       "2162    2018-07-04T18:20:59.800000\n",
       "2163    2018-07-04T18:20:59.900000\n",
       "Name: timestamp, Length: 2164, dtype: object"
      ]
     },
     "execution_count": 51,
     "metadata": {},
     "output_type": "execute_result"
    }
   ],
   "source": [
    "output_dataframe['timestamp']"
   ]
  },
  {
   "cell_type": "code",
   "execution_count": 57,
   "metadata": {},
   "outputs": [
    {
     "data": {
      "text/plain": [
       "1800"
      ]
     },
     "execution_count": 57,
     "metadata": {},
     "output_type": "execute_result"
    }
   ],
   "source": [
    "3*600"
   ]
  },
  {
   "cell_type": "code",
   "execution_count": 54,
   "metadata": {},
   "outputs": [
    {
     "data": {
      "text/plain": [
       "163"
      ]
     },
     "execution_count": 54,
     "metadata": {},
     "output_type": "execute_result"
    }
   ],
   "source": [
    "len(output_dataframe[output_dataframe['track'].unique() == 'active'])"
   ]
  },
  {
   "cell_type": "code",
   "execution_count": 56,
   "metadata": {},
   "outputs": [
    {
     "data": {
      "text/plain": [
       "array([ 4,  3,  5,  6,  7,  8,  9, 10,  1,  2, 14,  0, 12, 16, 17, 18, 19,\n",
       "       20, 21, 13, 23, 24, 22, 15, 25, 26, 28, 31, 11, 30, 27, 34, 29, 33,\n",
       "       37, 32, 35, 40, 41, 42, 36, 43, 39, 45, 44, 47, 38, 46, 48, 50, 49,\n",
       "       53, 52, 51, 54, 55, 56])"
      ]
     },
     "execution_count": 56,
     "metadata": {},
     "output_type": "execute_result"
    }
   ],
   "source": [
    "output_dataframe['track_id'].unique()"
   ]
  },
  {
   "cell_type": "code",
   "execution_count": null,
   "metadata": {},
   "outputs": [],
   "source": []
  }
 ],
 "metadata": {
  "kernelspec": {
   "display_name": "3d",
   "language": "python",
   "name": "3d"
  },
  "language_info": {
   "codemirror_mode": {
    "name": "ipython",
    "version": 3
   },
   "file_extension": ".py",
   "mimetype": "text/x-python",
   "name": "python",
   "nbconvert_exporter": "python",
   "pygments_lexer": "ipython3",
   "version": "3.7.4"
  }
 },
 "nbformat": 4,
 "nbformat_minor": 2
}
